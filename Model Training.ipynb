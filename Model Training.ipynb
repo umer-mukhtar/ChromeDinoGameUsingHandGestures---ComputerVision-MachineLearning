{
 "cells": [
  {
   "cell_type": "code",
   "execution_count": 4,
   "id": "b060d379",
   "metadata": {},
   "outputs": [],
   "source": [
    "#TRAINING"
   ]
  },
  {
   "cell_type": "code",
   "execution_count": 5,
   "id": "d785067e",
   "metadata": {},
   "outputs": [],
   "source": [
    "import matplotlib.pyplot as plt  \n",
    "import numpy as np\n",
    "import cv2\n",
    "import os\n",
    "from skimage.feature import hog"
   ]
  },
  {
   "cell_type": "code",
   "execution_count": 6,
   "id": "80fa38c0",
   "metadata": {},
   "outputs": [],
   "source": [
    "def undesired_objects (image):\n",
    "    image = image.astype('uint8')\n",
    "    nb_components, output, stats, centroids = cv2.connectedComponentsWithStats(image, connectivity=4)\n",
    "    sizes = stats[:, -1]\n",
    "\n",
    "    max_label = 1\n",
    "    max_size = sizes[1]\n",
    "    for i in range(2, nb_components):\n",
    "        if sizes[i] > max_size:\n",
    "            max_label = i\n",
    "            max_size = sizes[i]\n",
    "\n",
    "    img2 = np.zeros(output.shape)\n",
    "    img2[output == max_label] = 255\n",
    "#     cv2.imshow(\"Biggest component\", img2)\n",
    "#     cv2.waitKey()\n",
    "#     cv2.destroyAllWindows()\n",
    "    return img2"
   ]
  },
  {
   "cell_type": "code",
   "execution_count": 7,
   "id": "0ceb6905",
   "metadata": {},
   "outputs": [],
   "source": [
    "labels = []\n",
    "hogs = []\n",
    "h2 = []\n",
    "h3 = []"
   ]
  },
  {
   "cell_type": "code",
   "execution_count": 8,
   "id": "029b0b4d",
   "metadata": {},
   "outputs": [
    {
     "name": "stderr",
     "output_type": "stream",
     "text": [
      "C:\\Users\\Umer Mukhtar\\AppData\\Local\\Temp\\ipykernel_4344\\1895620606.py:37: FutureWarning: `multichannel` is a deprecated argument name for `hog`. It will be removed in version 1.0. Please use `channel_axis` instead.\n",
      "  fd, hog_image = hog(resized_img, orientations=9, pixels_per_cell=(8, 8),cells_per_block=(2, 2), visualize=True, multichannel=True)\n"
     ]
    }
   ],
   "source": [
    "for xyz in range (0,1400):\n",
    "    img = cv2.imread(\"open/file_\" + str(xyz) + \".jpg\")\n",
    "    \n",
    "\n",
    "    hsvb = cv2.cvtColor(img, cv2.COLOR_BGR2HSV)\n",
    "\n",
    "    black_lower=np.array([0,0,0],np.uint8)\n",
    "    black_upper=np.array([255,255,20],np.uint8)\n",
    "    black=cv2.inRange(hsvb,black_lower,black_upper)\n",
    "\n",
    "\n",
    "    blackc = cv2.cvtColor(black,cv2.COLOR_GRAY2BGR)\n",
    "    blackcomp = np.hstack((img,blackc))\n",
    "    \n",
    "    kernel = np.ones((5, 5), np.uint8)\n",
    "    img_dilation = cv2.dilate(black, kernel, iterations=2)\n",
    "    img_erosion = cv2.erode(img_dilation, kernel, iterations=2)\n",
    "    \n",
    "    \n",
    "    hand_img = undesired_objects(img_erosion)\n",
    "    # print(type(hand_img))\n",
    "    yellowY, yellowX = np.where(hand_img==255)\n",
    "\n",
    "    top, bottom = min(yellowY), max(yellowY)\n",
    "    left, right = min(yellowX), max(yellowX)\n",
    "    # print(top,bottom,left,right)\n",
    "\n",
    "    # Extract Region of Interest from unblurred original\n",
    "    ROI = hand_img[top-50:bottom+50, left - 50:right+50]\n",
    "    \n",
    "    roi_org = img[top-50:bottom+50,left-50:right+50]\n",
    "#     print(xyz)\n",
    "#     print(roi_org.shape)\n",
    "    if(roi_org.shape[1] == 0 or roi_org.shape[0] == 0):\n",
    "        continue\n",
    "    resized_img = cv2.resize(roi_org, (64, 128))\n",
    "    fd, hog_image = hog(resized_img, orientations=9, pixels_per_cell=(8, 8),cells_per_block=(2, 2), visualize=True, multichannel=True)\n",
    "    hogs.append(fd)\n",
    "    h2.append(fd)\n",
    "    labels.append(1)"
   ]
  },
  {
   "cell_type": "code",
   "execution_count": 9,
   "id": "4a898be8",
   "metadata": {},
   "outputs": [
    {
     "name": "stderr",
     "output_type": "stream",
     "text": [
      "C:\\Users\\Umer Mukhtar\\AppData\\Local\\Temp\\ipykernel_4344\\3578927075.py:37: FutureWarning: `multichannel` is a deprecated argument name for `hog`. It will be removed in version 1.0. Please use `channel_axis` instead.\n",
      "  fd, hog_image = hog(resized_img, orientations=9, pixels_per_cell=(8, 8),cells_per_block=(2, 2), visualize=True, multichannel=True)\n"
     ]
    }
   ],
   "source": [
    "for xyz in range (0,1400):\n",
    "    img = cv2.imread(\"close/file_\" + str(xyz) + \".jpg\")\n",
    "    \n",
    "\n",
    "    hsvb = cv2.cvtColor(img, cv2.COLOR_BGR2HSV)\n",
    "\n",
    "    black_lower=np.array([0,0,0],np.uint8)\n",
    "    black_upper=np.array([255,255,20],np.uint8)\n",
    "    black=cv2.inRange(hsvb,black_lower,black_upper)\n",
    "\n",
    "\n",
    "    blackc = cv2.cvtColor(black,cv2.COLOR_GRAY2BGR)\n",
    "    blackcomp = np.hstack((img,blackc))\n",
    "    \n",
    "    kernel = np.ones((5, 5), np.uint8)\n",
    "    img_dilation = cv2.dilate(black, kernel, iterations=2)\n",
    "    img_erosion = cv2.erode(img_dilation, kernel, iterations=2)\n",
    "    \n",
    "    \n",
    "    hand_img = undesired_objects(img_erosion)\n",
    "    # print(type(hand_img))\n",
    "    yellowY, yellowX = np.where(hand_img==255)\n",
    "\n",
    "    top, bottom = min(yellowY), max(yellowY)\n",
    "    left, right = min(yellowX), max(yellowX)\n",
    "    # print(top,bottom,left,right)\n",
    "\n",
    "    # Extract Region of Interest from unblurred original\n",
    "    ROI = hand_img[top-50:bottom+50, left - 50:right+50]\n",
    "    \n",
    "    roi_org = img[top-50:bottom+50,left-50:right+50]\n",
    "#     print(xyz)\n",
    "#     print(roi_org.shape)\n",
    "    if(roi_org.shape[1] == 0 or roi_org.shape[0] == 0):\n",
    "        continue\n",
    "    resized_img = cv2.resize(roi_org, (64, 128))\n",
    "    fd, hog_image = hog(resized_img, orientations=9, pixels_per_cell=(8, 8),cells_per_block=(2, 2), visualize=True, multichannel=True)\n",
    "    hogs.append(fd)\n",
    "    h3.append(fd)\n",
    "    labels.append(2)"
   ]
  },
  {
   "cell_type": "code",
   "execution_count": 10,
   "id": "57252f65",
   "metadata": {},
   "outputs": [
    {
     "name": "stdout",
     "output_type": "stream",
     "text": [
      "1.0\n"
     ]
    }
   ],
   "source": [
    "from sklearn.ensemble import RandomForestClassifier\n",
    "\n",
    "classifier = RandomForestClassifier(n_estimators = 50, max_depth=None, min_samples_split=2, random_state=0)\n",
    "\n",
    "classifier.fit(hogs,labels)\n",
    "\n",
    "\n",
    "print(classifier.score(hogs,labels))"
   ]
  },
  {
   "cell_type": "code",
   "execution_count": 46,
   "id": "4f3ae58c",
   "metadata": {},
   "outputs": [
    {
     "data": {
      "text/plain": [
       "1.0"
      ]
     },
     "execution_count": 46,
     "metadata": {},
     "output_type": "execute_result"
    }
   ],
   "source": []
  },
  {
   "cell_type": "code",
   "execution_count": null,
   "id": "bbf63a16",
   "metadata": {},
   "outputs": [],
   "source": []
  },
  {
   "cell_type": "code",
   "execution_count": null,
   "id": "4f59ee3a",
   "metadata": {},
   "outputs": [],
   "source": []
  },
  {
   "cell_type": "code",
   "execution_count": null,
   "id": "97fe0754",
   "metadata": {},
   "outputs": [],
   "source": []
  },
  {
   "cell_type": "code",
   "execution_count": 11,
   "id": "6aefcf7c",
   "metadata": {},
   "outputs": [],
   "source": [
    "import pickle\n",
    "\n",
    "# save\n",
    "with open('model.pkl','wb') as f:\n",
    "    pickle.dump(classifier,f)\n",
    "\n"
   ]
  },
  {
   "cell_type": "code",
   "execution_count": 45,
   "id": "73b59d89",
   "metadata": {},
   "outputs": [
    {
     "data": {
      "text/plain": [
       "array([1, 1, 1, ..., 1, 1, 1])"
      ]
     },
     "execution_count": 45,
     "metadata": {},
     "output_type": "execute_result"
    }
   ],
   "source": [
    "with open('model.pkl', 'rb') as f:\n",
    "    clf2 = pickle.load(f)\n",
    "\n",
    "arr = clf2.predict(h2)\n",
    "arr"
   ]
  },
  {
   "cell_type": "code",
   "execution_count": null,
   "id": "b1525593",
   "metadata": {},
   "outputs": [],
   "source": []
  },
  {
   "cell_type": "code",
   "execution_count": null,
   "id": "ea43c21d",
   "metadata": {},
   "outputs": [],
   "source": []
  }
 ],
 "metadata": {
  "kernelspec": {
   "display_name": "Python 3 (ipykernel)",
   "language": "python",
   "name": "python3"
  },
  "language_info": {
   "codemirror_mode": {
    "name": "ipython",
    "version": 3
   },
   "file_extension": ".py",
   "mimetype": "text/x-python",
   "name": "python",
   "nbconvert_exporter": "python",
   "pygments_lexer": "ipython3",
   "version": "3.9.13"
  }
 },
 "nbformat": 4,
 "nbformat_minor": 5
}
